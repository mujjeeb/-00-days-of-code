{
  "nbformat": 4,
  "nbformat_minor": 0,
  "metadata": {
    "colab": {
      "provenance": []
    },
    "kernelspec": {
      "name": "python3",
      "display_name": "Python 3"
    },
    "language_info": {
      "name": "python"
    }
  },
  "cells": [
    {
      "cell_type": "code",
      "execution_count": null,
      "metadata": {
        "id": "Pfcu0vk0B0GB"
      },
      "outputs": [],
      "source": []
    },
    {
      "cell_type": "markdown",
      "source": [
        "# Guessing game\n",
        "###The computer randomly guesses a number between a set range and then offers the user the chance to guess said number. The user has limited guesses by the difficulty (Easy or Hard).\n"
      ],
      "metadata": {
        "id": "xblJjQLkB3xu"
      }
    },
    {
      "cell_type": "code",
      "source": [
        "import random\n",
        "\n",
        "print(\"Welcome to the Guessing Game!\")\n",
        "upperlimit=int(input(\"What would the upper limit of he game be?\"))\n",
        "print(f\"I'm thinking of a number between 1 and {upperlimit}\")\n",
        "difficulty = input(\"Choose a difficulty, Type 'easy' or 'hard': \")\n",
        "print(difficulty)\n",
        "\n",
        "def difficulty_level(chosen_level):\n",
        "    \"\"\" Takes a prescribed chosen level, returns an integer of number guesses possible at chosen level\n",
        "    \"\"\"\n",
        "\n",
        "    if chosen_level == 'easy':\n",
        "        return 10\n",
        "    elif chosen_level ==  'hard':\n",
        "        return 5\n",
        "    else:\n",
        "        print(\"Not defined, please restart the game\")\n",
        "\n",
        "nr_lives = difficulty_level(difficulty)\n",
        "real_number = random.randrange(0, upperlimit+1)\n",
        "\n",
        "\n",
        "\n",
        "print(f\"Yor {nr_lives} attempts remaining to guess the number.\")\n",
        "while nr_lives > 0:\n",
        "    guess = int(input(\"Make a guess: \"))\n",
        "    if guess == real_number:\n",
        "        print(f\"You got it! the answer was {guess}\")\n",
        "        nr_lives = 0\n",
        "    elif guess > real_number:\n",
        "        print(\"Too high\")\n",
        "    else:\n",
        "        print(\"Too low\")\n",
        "    nr_lives -=1\n",
        "    print(nr_lives)\n",
        "print(nr_lives)\n",
        "\n",
        "\n"
      ],
      "metadata": {
        "id": "F9-HWixuCbmM"
      },
      "execution_count": null,
      "outputs": []
    }
  ]
}