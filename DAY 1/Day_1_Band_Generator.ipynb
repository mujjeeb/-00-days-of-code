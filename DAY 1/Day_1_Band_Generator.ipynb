{
  "nbformat": 4,
  "nbformat_minor": 0,
  "metadata": {
    "colab": {
      "provenance": []
    },
    "kernelspec": {
      "name": "python3",
      "display_name": "Python 3"
    },
    "language_info": {
      "name": "python"
    }
  },
  "cells": [
    {
      "cell_type": "code",
      "execution_count": null,
      "metadata": {
        "id": "cbg1jJeVqhXM",
        "colab": {
          "base_uri": "https://localhost:8080/"
        },
        "outputId": "34a4acbf-4a96-4b04-b603-65410701232c"
      },
      "outputs": [
        {
          "output_type": "stream",
          "name": "stdout",
          "text": [
            "Welcome to the Band Name Generator\n",
            "What's the name of the city you grew up in?\n",
            "jebba\n",
            "What's the name of your pet\n",
            "bullly\n",
            "Your band name could be jebba bullly.\n"
          ]
        }
      ],
      "source": [
        "#Project asks you for a few personal information then generates a band name\n",
        "#Print a welcome note\n",
        "print(\"Welcome to the Band Name Generator\")\n",
        "print(\"What's the name of the city you grew up in?\")\n",
        "city = input()\n",
        "print(\"What's the name of your pet\")\n",
        "pet = input()\n",
        "print(\"Your band name could be \"+city+ \" \" +pet+\".\")\n"
      ]
    }
  ]
}
