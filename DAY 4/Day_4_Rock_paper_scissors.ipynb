{
  "nbformat": 4,
  "nbformat_minor": 0,
  "metadata": {
    "colab": {
      "provenance": []
    },
    "kernelspec": {
      "name": "python3",
      "display_name": "Python 3"
    },
    "language_info": {
      "name": "python"
    }
  },
  "cells": [
    {
      "cell_type": "markdown",
      "source": [
        "###Day 4 of a 100; Rock, paper, scissors game.\n"
      ],
      "metadata": {
        "id": "0RjwfmBHgnix"
      }
    },
    {
      "cell_type": "code",
      "source": [
        "rock = '''\n",
        "    _______\n",
        "---'   ____)\n",
        "      (_____)\n",
        "      (_____)\n",
        "      (____)\n",
        "---.__(___)\n",
        "'''\n",
        "\n",
        "paper = '''\n",
        "    _______\n",
        "---'   ____)____\n",
        "          ______)\n",
        "          _______)\n",
        "         _______)\n",
        "---.__________)\n",
        "'''\n",
        "\n",
        "scissors = '''\n",
        "    _______\n",
        "---'   ____)____\n",
        "          ______)\n",
        "       __________)\n",
        "      (____)\n",
        "---.__(___)\n",
        "'''\n",
        "\n",
        "\n",
        "map = [rock, paper, scissors]\n",
        "import random\n",
        "\n",
        "# Function for choosing what animation to display\n",
        "def print_choice (choice, animation):\n",
        "  if choice == 0:\n",
        "    print(animation[0])\n",
        "  elif choice == 1:\n",
        "    print(animation[1])\n",
        "  elif choice == 2:\n",
        "    print(animation[2])\n",
        "  else:\n",
        "    print(\"What the hell is that? You lose!\")\n",
        "\n",
        "# function used to determine the winner\n",
        "def winner(user_choice, computer_choice):\n",
        "  if user_choice > computer_choice:\n",
        "    if user_choice == 2 and computer_choice == 0:\n",
        "      print(\"Computer wins\")\n",
        "    else:\n",
        "      print(\"User wins\")\n",
        "\n",
        "  elif user_choice == computer_choice:\n",
        "      print(\"It's a draw\")\n",
        "\n",
        "  else:\n",
        "    if computer_choice == 2 and user_choice == 0:\n",
        "      print(\"user wins\")\n",
        "    else:\n",
        "      print(\"Computer wins\")\n",
        "\n",
        "\n",
        "\n",
        "\n",
        "user_choice = int(input(\"What do you choose? Type 0 for Rock, 1 for Paper and 2 for Scissors.\"))\n",
        "computer_choice = random.randint(0,2)\n",
        "\n",
        "print_choice(user_choice, map)\n",
        "print_choice(computer_choice, map)\n",
        "\n",
        "winner(user_choice, computer_choice)\n",
        "\n",
        "\n",
        "\n",
        "\n",
        "\n",
        "\n",
        "\n",
        "\n",
        "\n",
        "\n"
      ],
      "metadata": {
        "colab": {
          "base_uri": "https://localhost:8080/"
        },
        "id": "TIwIbXi6hCMD",
        "outputId": "c791d05c-ade7-4254-d0ce-b59e77b080d5"
      },
      "execution_count": 1,
      "outputs": [
        {
          "output_type": "stream",
          "name": "stdout",
          "text": [
            "What do you choose? Type 0 for Rock, 1 for Paper and 2 for Scissors.1\n",
            "\n",
            "    _______\n",
            "---'   ____)____\n",
            "          ______)\n",
            "          _______)\n",
            "         _______)\n",
            "---.__________)\n",
            "\n",
            "\n",
            "    _______\n",
            "---'   ____)____\n",
            "          ______)\n",
            "          _______)\n",
            "         _______)\n",
            "---.__________)\n",
            "\n",
            "It's a draw\n"
          ]
        }
      ]
    },
    {
      "cell_type": "code",
      "source": [],
      "metadata": {
        "id": "9xMBLZzijY7c"
      },
      "execution_count": null,
      "outputs": []
    }
  ]
}