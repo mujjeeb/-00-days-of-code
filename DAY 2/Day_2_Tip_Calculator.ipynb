{
  "nbformat": 4,
  "nbformat_minor": 0,
  "metadata": {
    "colab": {
      "provenance": []
    },
    "kernelspec": {
      "name": "python3",
      "display_name": "Python 3"
    },
    "language_info": {
      "name": "python"
    }
  },
  "cells": [
    {
      "cell_type": "markdown",
      "source": [
        "##Program Calculates the tip at a restuarant\n"
      ],
      "metadata": {
        "id": "oE0Z5Ndx9ngZ"
      }
    },
    {
      "cell_type": "code",
      "source": [
        "#Welcome\n",
        "print(\"Welcome to the tip calculator\")\n",
        "bill = float(input(print(\"What was the total for your bill $\")))\n",
        "tip_percent = int(input(print(\"What percentage tip would you like to give? 10, 12,or 15?\")))/100\n",
        "people = int(input(print(\"How many people to split the bill?\")))\n",
        "bill_per_person = (bill + (tip_percent*bill))/people\n",
        "\n",
        "\n",
        "print(bill_per_person)"
      ],
      "metadata": {
        "colab": {
          "base_uri": "https://localhost:8080/"
        },
        "id": "2s8_kxjQ9y4c",
        "outputId": "a427bfd4-7455-4809-a548-b29447d78de0"
      },
      "execution_count": null,
      "outputs": [
        {
          "output_type": "stream",
          "name": "stdout",
          "text": [
            "Welcome to the tip calculator\n",
            "What was the total for your bill $\n",
            "124.56\n",
            "What percentage tip would you like to give? 10, 12,or 15?\n",
            "12\n",
            "How many people to split the bill?\n",
            "7\n",
            "19.9296\n"
          ]
        }
      ]
    },
    {
      "cell_type": "code",
      "source": [],
      "metadata": {
        "id": "15RtQV_W-Ozk"
      },
      "execution_count": null,
      "outputs": []
    }
  ]
}