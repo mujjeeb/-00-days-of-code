{
  "nbformat": 4,
  "nbformat_minor": 0,
  "metadata": {
    "colab": {
      "provenance": []
    },
    "kernelspec": {
      "name": "python3",
      "display_name": "Python 3"
    },
    "language_info": {
      "name": "python"
    }
  },
  "cells": [
    {
      "cell_type": "markdown",
      "source": [
        "### The game walks you through a set of instructions to your deathbed(weird name, not in the best of moods. Death seems like the best option)\n",
        "Note: This didn't work in Co-lab but you tested it in another enviroment and it worked fine.\n"
      ],
      "metadata": {
        "id": "L9VSOEzqkkfY"
      }
    },
    {
      "cell_type": "markdown",
      "source": [],
      "metadata": {
        "id": "qqjeHAK9eKTE"
      }
    },
    {
      "cell_type": "code",
      "source": [
        "print(r\"\"\"\\\n",
        " _                                                 _.--.    __  _\n",
        "    | |                                               ) \\   `.,'  \\| |\n",
        "    | |                                            (`'       |     : |\n",
        "    | |                             _..-.-.-.-._    )     ,),'.    | |\n",
        "    | |('.                    __..-' ) ) ) ) ) )``-'    _.-| \\     | |\n",
        "    | | \\ `...------''``--'''' \\   )_____....---     ,''           ; |\n",
        "    | |_(_..-......_________..._,-'_,..__....____..-'.._________..'| |\n",
        "    | |____________________________________________________________| |\n",
        "  __|_|_________________________________________________________SSt|_|__\n",
        "\"\"\")\n",
        "\n",
        "print(\"Welcome to Death bed.\")\n",
        "print(\"Your mission is to find your way to your deathbed.\")\n",
        "begin = input(\"Would you like to go right of left? \")\n",
        "if begin.lower() == 'left':\n",
        "  swim_wait = input(\"Would you like to go swim or wait? \")\n",
        "  if swim_wait.lower() == 'wait':\n",
        "    door = input(\"Which door would you like to go through? Red, Blue, Yellow?  \")\n",
        "    if door.lower() == 'red':\n",
        "      print(\"You get ALS, but you get to live!\")\n",
        "    elif door.lower() == 'blue':\n",
        "      print(\"You get Cysticercosis, but you get to live!\")\n",
        "    elif door.lower() == 'yellow':\n",
        "      print(\"Victory, You die in your sleep!\")\n",
        "    else:\n",
        "      print(\"You get to live out your miserable life for the next 60 years!\")\n",
        "\n",
        "  else:\n",
        "    print(\"You lose your sight and legs, but you get to live.\")\n",
        "\n",
        "else:\n",
        "  print(\"Sike you get to live!\")\n",
        "\n",
        "\n"
      ],
      "metadata": {
        "colab": {
          "base_uri": "https://localhost:8080/"
        },
        "id": "dKUnemVief7m",
        "outputId": "9830c387-8a3f-44f5-a0f9-6c646604fa99"
      },
      "execution_count": 1,
      "outputs": [
        {
          "output_type": "stream",
          "name": "stdout",
          "text": [
            "\\\n",
            " _                                                 _.--.    __  _\n",
            "    | |                                               ) \\   `.,'  \\| |\n",
            "    | |                                            (`'       |     : |\n",
            "    | |                             _..-.-.-.-._    )     ,),'.    | |\n",
            "    | |('.                    __..-' ) ) ) ) ) )``-'    _.-| \\     | |\n",
            "    | | \\ `...------''``--'''' \\   )_____....---     ,''           ; |\n",
            "    | |_(_..-......_________..._,-'_,..__....____..-'.._________..'| |\n",
            "    | |____________________________________________________________| |\n",
            "  __|_|_________________________________________________________SSt|_|__\n",
            "\n",
            "Welcome to Death bed.\n",
            "Your mission is to find your way to your deathbed.\n",
            "Would you like to go right of left? right\n",
            "Sike you get to live!\n"
          ]
        }
      ]
    },
    {
      "cell_type": "code",
      "source": [],
      "metadata": {
        "id": "g2-bje33emDa"
      },
      "execution_count": null,
      "outputs": []
    }
  ]
}