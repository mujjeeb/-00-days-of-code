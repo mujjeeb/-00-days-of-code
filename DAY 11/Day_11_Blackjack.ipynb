{
  "nbformat": 4,
  "nbformat_minor": 0,
  "metadata": {
    "colab": {
      "provenance": []
    },
    "kernelspec": {
      "name": "python3",
      "display_name": "Python 3"
    },
    "language_info": {
      "name": "python"
    }
  },
  "cells": [
    {
      "cell_type": "code",
      "execution_count": 1,
      "metadata": {
        "id": "e95dgf1v-6j8",
        "colab": {
          "base_uri": "https://localhost:8080/"
        },
        "outputId": "5bc09b04-b023-42f0-fa78-b88057383495"
      },
      "outputs": [
        {
          "output_type": "stream",
          "name": "stdout",
          "text": [
            "\n",
            ".------.            _     _            _    _            _    \n",
            "|A_  _ |.          | |   | |          | |  (_)          | |   \n",
            "|( \\/ ).-----.     | |__ | | __ _  ___| | ___  __ _  ___| | __\n",
            "| \\  /|K /\\  |     | '_ \\| |/ _` |/ __| |/ / |/ _` |/ __| |/ /\n",
            "|  \\/ | /  \\ |     | |_) | | (_| | (__|   <| | (_| | (__|   < \n",
            "`-----| \\  / |     |_.__/|_|\\__,_|\\___|_|\\_\\ |\\__,_|\\___|_|\\_\\\n",
            "      |  \\/ K|                            _/ |                \n",
            "      `------'                           |__/           \n",
            "\n",
            "Do you want to play a game of Blackjack? Type 'y' or 'n': y\n",
            "Your cards are[8, 10], current score is 18\n",
            "Computer's first card is 11\n",
            " Type 'y' to get another card or 'n' to pass: y\n",
            "Your cards are[8, 10, 7], current score is 25\n",
            "Computer cards are[11, 10], computer score is 21\n",
            "You lose\n"
          ]
        }
      ],
      "source": [
        "# ############### Blackjack Project #####################\n",
        "\n",
        "\n",
        "############### Our Blackjack House Rules #####################\n",
        "\n",
        "## The deck is unlimited in size.\n",
        "## There are no jokers.\n",
        "## The Jack/Queen/King all count as 10.\n",
        "## The the Ace can count as 11 or 1.\n",
        "## Use the following list as the deck of cards:\n",
        "## cards = [11, 2, 3, 4, 5, 6, 7, 8, 9, 10, 10, 10, 10]\n",
        "## The cards in the list have equal probability of being drawn.\n",
        "## Cards are not removed from the deck as they are drawn.\n",
        "## The computer is the dealer.\n",
        "\n",
        "\n",
        "logo = \"\"\"\n",
        ".------.            _     _            _    _            _\n",
        "|A_  _ |.          | |   | |          | |  (_)          | |\n",
        "|( \\/ ).-----.     | |__ | | __ _  ___| | ___  __ _  ___| | __\n",
        "| \\  /|K /\\  |     | '_ \\| |/ _` |/ __| |/ / |/ _` |/ __| |/ /\n",
        "|  \\/ | /  \\ |     | |_) | | (_| | (__|   <| | (_| | (__|   <\n",
        "`-----| \\  / |     |_.__/|_|\\__,_|\\___|_|\\_\\ |\\__,_|\\___|_|\\_\\\\\n",
        "      |  \\/ K|                            _/ |\n",
        "      `------'                           |__/\n",
        "\"\"\"\n",
        "import random\n",
        "print(logo)\n",
        "start = input(\"Do you want to play a game of Blackjack? Type 'y' or 'n': \")\n",
        "cards = [11, 2, 3, 4, 5, 6, 7, 8, 9, 10, 10, 10, 10]\n",
        "\n",
        "def game_calc(user_total, computer_total):\n",
        "    if user_total >=21:\n",
        "        print(\"You lose\")\n",
        "    elif user_total > computer_total:\n",
        "        print(\"You win\")\n",
        "    elif user_total < computer_total:\n",
        "        print(\"You lose\")\n",
        "    else:\n",
        "        print(\"It's a Draw\")\n",
        "\n",
        "\n",
        "if start == 'y':\n",
        "    user_cards = random.choices(cards, k=2)\n",
        "    user_score = sum(user_cards)\n",
        "    print(f\"Your cards are{user_cards}, current score is {user_score}\")\n",
        "    computer_cards = random.choices(cards, k=2)\n",
        "    computer_score = sum(computer_cards)\n",
        "    print(f\"Computer's first card is {computer_cards[0]}\")\n",
        "    another_card = input(\" Type 'y' to get another card or 'n' to pass: \")\n",
        "    if another_card == 'y':\n",
        "        user_cards.append(cards[random.randint(0,12)])\n",
        "        user_score = sum(user_cards)\n",
        "        print(f\"Your cards are{user_cards}, current score is {user_score}\")\n",
        "        print(f\"Computer cards are{computer_cards}, computer score is {computer_score}\")\n",
        "        game_calc(user_score, computer_score)\n",
        "    else:\n",
        "        print(f\"Your cards are{user_cards}, current score is {user_score}\")\n",
        "        print(f\"Computer cards are{computer_cards}, computer score is {computer_score}\")\n",
        "        game_calc(user_score, computer_score)\n",
        "\n",
        "\n",
        "\n",
        "else:\n",
        "    print(\"Stop wasting my time sucker!!!\")\n",
        "\n",
        "\n",
        "\n",
        "\n",
        "\n",
        "\n",
        "\n",
        "\n",
        "\n",
        "\n",
        "\n",
        "\n"
      ]
    },
    {
      "cell_type": "code",
      "source": [],
      "metadata": {
        "id": "B__qcmNOBwgP"
      },
      "execution_count": null,
      "outputs": []
    }
  ]
}