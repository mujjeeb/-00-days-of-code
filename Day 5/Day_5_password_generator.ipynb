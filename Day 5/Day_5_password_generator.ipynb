{
  "nbformat": 4,
  "nbformat_minor": 0,
  "metadata": {
    "colab": {
      "provenance": []
    },
    "kernelspec": {
      "name": "python3",
      "display_name": "Python 3"
    },
    "language_info": {
      "name": "python"
    }
  },
  "cells": [
    {
      "cell_type": "markdown",
      "source": [
        "# Program Generates Passwords according to the conditions given by the user.\n",
        "program will ask for number of letters, symbols and numbers required for the password and then randomly generate characters for the password\n"
      ],
      "metadata": {
        "id": "oog-R6UOsiDU"
      }
    },
    {
      "cell_type": "markdown",
      "source": [
        "### Import statements and declaration of possible characters"
      ],
      "metadata": {
        "id": "1NEcRC3stTzU"
      }
    },
    {
      "cell_type": "code",
      "execution_count": null,
      "metadata": {
        "id": "0d8V-c3CqrJ1"
      },
      "outputs": [],
      "source": [
        "#Password Generator Project\n",
        "import random\n",
        "letters = ['a', 'b', 'c', 'd', 'e', 'f', 'g', 'h', 'i', 'j', 'k', 'l', 'm', 'n', 'o', 'p', 'q', 'r', 's', 't', 'u', 'v', 'w', 'x', 'y', 'z', 'A', 'B', 'C', 'D', 'E', 'F', 'G', 'H', 'I', 'J', 'K', 'L', 'M', 'N', 'O', 'P', 'Q', 'R', 'S', 'T', 'U', 'V', 'W', 'X', 'Y', 'Z']\n",
        "numbers = ['0', '1', '2', '3', '4', '5', '6', '7', '8', '9']\n",
        "symbols = ['!', '#', '$', '%', '&', '(', ')', '*', '+']\n",
        "\n",
        "print(\"Welcome to the PyPassword Generator!\")\n",
        "nr_letters= int(input(\"How many letters would you like in your password?\\n\"))\n",
        "nr_symbols = int(input(f\"How many symbols would you like?\\n\"))\n",
        "nr_numbers = int(input(f\"How many numbers would you like?\\n\"))\n",
        "\n",
        "\n",
        "password =[]\n",
        "\n",
        "\n",
        "for letter in range(nr_letters):\n",
        "  password.append(letters[random.randint(1,24)])\n",
        "\n",
        "for symbol in range(nr_symbols):\n",
        "  password.append(symbols[random.randint(1,8)])\n",
        "\n",
        "for number in range(nr_numbers):\n",
        "  password.append(numbers[random.randint(1,9)])\n",
        "\n",
        "password_string = \"\".join(password)\n",
        "\n",
        "print (password_string)"
      ]
    }
  ]
}