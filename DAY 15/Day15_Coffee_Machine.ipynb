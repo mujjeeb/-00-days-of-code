{
  "nbformat": 4,
  "nbformat_minor": 0,
  "metadata": {
    "colab": {
      "provenance": []
    },
    "kernelspec": {
      "name": "python3",
      "display_name": "Python 3"
    },
    "language_info": {
      "name": "python"
    }
  },
  "cells": [
    {
      "cell_type": "code",
      "execution_count": 1,
      "metadata": {
        "id": "6XQMPBFTD3VE",
        "colab": {
          "base_uri": "https://localhost:8080/",
          "height": 564
        },
        "outputId": "f82c5522-ea1a-44da-a5b8-5aa3115159d8"
      },
      "outputs": [
        {
          "output_type": "stream",
          "name": "stdout",
          "text": [
            "What would you like? (espresso/latte/cappuccino) or off to turnoff the machine: latte\n",
            "Please insert the amount of  quarters  that would be used ?  2\n",
            "Please insert the amount of  dimes  that would be used ?  34\n",
            "Please insert the amount of  nickles  that would be used ?  3\n",
            "Please insert the amount of  pennies  that would be used ?  3\n",
            "Here is your change $1.580000000000001\n",
            "Enjoy your latte, have a nice day!\n",
            "Would you like a resource report? Type 'Y' for Yes or 'N' for No: Y\n",
            "We have 100ml of water, 50ml of milk and 76g of coffee left and $2.5 in the register.\n"
          ]
        },
        {
          "output_type": "error",
          "ename": "KeyboardInterrupt",
          "evalue": "ignored",
          "traceback": [
            "\u001b[0;31m---------------------------------------------------------------------------\u001b[0m",
            "\u001b[0;31mKeyboardInterrupt\u001b[0m                         Traceback (most recent call last)",
            "\u001b[0;32m<ipython-input-1-88779ef3ff30>\u001b[0m in \u001b[0;36m<cell line: 66>\u001b[0;34m()\u001b[0m\n\u001b[1;32m     66\u001b[0m \u001b[0;32mwhile\u001b[0m \u001b[0mcoffee_machine_on\u001b[0m\u001b[0;34m:\u001b[0m\u001b[0;34m\u001b[0m\u001b[0;34m\u001b[0m\u001b[0m\n\u001b[1;32m     67\u001b[0m     \u001b[0mresources\u001b[0m\u001b[0;34m[\u001b[0m\u001b[0;34m'money'\u001b[0m\u001b[0;34m]\u001b[0m \u001b[0;34m=\u001b[0m \u001b[0;36m0\u001b[0m\u001b[0;34m\u001b[0m\u001b[0;34m\u001b[0m\u001b[0m\n\u001b[0;32m---> 68\u001b[0;31m     \u001b[0muser_choice\u001b[0m \u001b[0;34m=\u001b[0m \u001b[0minput\u001b[0m\u001b[0;34m(\u001b[0m\u001b[0;34m\"What would you like? (espresso/latte/cappuccino) or off to turnoff the machine: \"\u001b[0m\u001b[0;34m)\u001b[0m\u001b[0;34m\u001b[0m\u001b[0;34m\u001b[0m\u001b[0m\n\u001b[0m\u001b[1;32m     69\u001b[0m     \u001b[0;32mif\u001b[0m \u001b[0muser_choice\u001b[0m \u001b[0;34m==\u001b[0m \u001b[0;34m'off'\u001b[0m\u001b[0;34m:\u001b[0m\u001b[0;34m\u001b[0m\u001b[0;34m\u001b[0m\u001b[0m\n\u001b[1;32m     70\u001b[0m         \u001b[0mcoffee_machine_on\u001b[0m \u001b[0;34m=\u001b[0m \u001b[0;32mFalse\u001b[0m\u001b[0;34m\u001b[0m\u001b[0;34m\u001b[0m\u001b[0m\n",
            "\u001b[0;32m/usr/local/lib/python3.10/dist-packages/ipykernel/kernelbase.py\u001b[0m in \u001b[0;36mraw_input\u001b[0;34m(self, prompt)\u001b[0m\n\u001b[1;32m    849\u001b[0m                 \u001b[0;34m\"raw_input was called, but this frontend does not support input requests.\"\u001b[0m\u001b[0;34m\u001b[0m\u001b[0;34m\u001b[0m\u001b[0m\n\u001b[1;32m    850\u001b[0m             )\n\u001b[0;32m--> 851\u001b[0;31m         return self._input_request(str(prompt),\n\u001b[0m\u001b[1;32m    852\u001b[0m             \u001b[0mself\u001b[0m\u001b[0;34m.\u001b[0m\u001b[0m_parent_ident\u001b[0m\u001b[0;34m,\u001b[0m\u001b[0;34m\u001b[0m\u001b[0;34m\u001b[0m\u001b[0m\n\u001b[1;32m    853\u001b[0m             \u001b[0mself\u001b[0m\u001b[0;34m.\u001b[0m\u001b[0m_parent_header\u001b[0m\u001b[0;34m,\u001b[0m\u001b[0;34m\u001b[0m\u001b[0;34m\u001b[0m\u001b[0m\n",
            "\u001b[0;32m/usr/local/lib/python3.10/dist-packages/ipykernel/kernelbase.py\u001b[0m in \u001b[0;36m_input_request\u001b[0;34m(self, prompt, ident, parent, password)\u001b[0m\n\u001b[1;32m    893\u001b[0m             \u001b[0;32mexcept\u001b[0m \u001b[0mKeyboardInterrupt\u001b[0m\u001b[0;34m:\u001b[0m\u001b[0;34m\u001b[0m\u001b[0;34m\u001b[0m\u001b[0m\n\u001b[1;32m    894\u001b[0m                 \u001b[0;31m# re-raise KeyboardInterrupt, to truncate traceback\u001b[0m\u001b[0;34m\u001b[0m\u001b[0;34m\u001b[0m\u001b[0m\n\u001b[0;32m--> 895\u001b[0;31m                 \u001b[0;32mraise\u001b[0m \u001b[0mKeyboardInterrupt\u001b[0m\u001b[0;34m(\u001b[0m\u001b[0;34m\"Interrupted by user\"\u001b[0m\u001b[0;34m)\u001b[0m \u001b[0;32mfrom\u001b[0m \u001b[0;32mNone\u001b[0m\u001b[0;34m\u001b[0m\u001b[0;34m\u001b[0m\u001b[0m\n\u001b[0m\u001b[1;32m    896\u001b[0m             \u001b[0;32mexcept\u001b[0m \u001b[0mException\u001b[0m \u001b[0;32mas\u001b[0m \u001b[0me\u001b[0m\u001b[0;34m:\u001b[0m\u001b[0;34m\u001b[0m\u001b[0;34m\u001b[0m\u001b[0m\n\u001b[1;32m    897\u001b[0m                 \u001b[0mself\u001b[0m\u001b[0;34m.\u001b[0m\u001b[0mlog\u001b[0m\u001b[0;34m.\u001b[0m\u001b[0mwarning\u001b[0m\u001b[0;34m(\u001b[0m\u001b[0;34m\"Invalid Message:\"\u001b[0m\u001b[0;34m,\u001b[0m \u001b[0mexc_info\u001b[0m\u001b[0;34m=\u001b[0m\u001b[0;32mTrue\u001b[0m\u001b[0;34m)\u001b[0m\u001b[0;34m\u001b[0m\u001b[0;34m\u001b[0m\u001b[0m\n",
            "\u001b[0;31mKeyboardInterrupt\u001b[0m: Interrupted by user"
          ]
        }
      ],
      "source": [
        "MENU = {\n",
        "    \"espresso\": {\n",
        "        \"ingredients\": {\n",
        "            \"water\": 50,\n",
        "            \"coffee\": 18,\n",
        "        },\n",
        "        \"cost\": 1.5,\n",
        "    },\n",
        "    \"latte\": {\n",
        "        \"ingredients\": {\n",
        "            \"water\": 200,\n",
        "            \"milk\": 150,\n",
        "            \"coffee\": 24,\n",
        "        },\n",
        "        \"cost\": 2.5,\n",
        "    },\n",
        "    \"cappuccino\": {\n",
        "        \"ingredients\": {\n",
        "            \"water\": 250,\n",
        "            \"milk\": 100,\n",
        "            \"coffee\": 24,\n",
        "        },\n",
        "        \"cost\": 3.0,\n",
        "    }\n",
        "}\n",
        "\n",
        "resources = {\n",
        "    \"water\": 300,\n",
        "    \"milk\": 200,\n",
        "    \"coffee\": 100,\n",
        "}\n",
        "\n",
        "\n",
        "def check_resources(coffee_choice, resource_left):\n",
        "    for key in coffee_choice:\n",
        "        if coffee_choice[key] > resource_left[key]:\n",
        "            print(f\"Sorry there is not enough {key} left.\")\n",
        "            return False\n",
        "        else:\n",
        "            return True\n",
        "\n",
        "\n",
        "def make_coffee(coffee_choice, resource_left):\n",
        "    for ingredient in coffee_choice:\n",
        "        resource_left[ingredient] -= coffee_choice[ingredient]\n",
        "\n",
        "\n",
        "def check_money(quarter, dime, nickel, pennie, coffee_price, resources):\n",
        "    total_money = (quarter * 0.25) + (dime * 0.10) + (nickel * 0.05) + (pennie * 0.01)\n",
        "    if total_money < coffee_price:\n",
        "        print(\"Sorry that is not enough money. Money refunded\")\n",
        "        return False\n",
        "    else:\n",
        "        resources['money'] += coffee_price\n",
        "        return True\n",
        "\n",
        "\n",
        "def check_for_change(quarter, dime, nickel, pennie, coffee_price):\n",
        "    change = 0\n",
        "    total_money = (quarter * 0.25) + (dime * 0.10) + (nickel * 0.05) + (pennie * 0.01)\n",
        "    change = total_money - coffee_price\n",
        "    return change\n",
        "\n",
        "\n",
        "coffee_machine_on = True\n",
        "while coffee_machine_on:\n",
        "    resources['money'] = 0\n",
        "    user_choice = input(\"What would you like? (espresso/latte/cappuccino) or off to turnoff the machine: \")\n",
        "    if user_choice == 'off':\n",
        "        coffee_machine_on = False\n",
        "    else:\n",
        "        for key in MENU:\n",
        "            if user_choice == key:\n",
        "                user_choice_ingredients = MENU[key][\"ingredients\"]\n",
        "                user_choice_price = MENU[key][\"cost\"]\n",
        "                enough_resources = check_resources(user_choice_ingredients, resources)\n",
        "                if enough_resources:\n",
        "                    quarters = float(input(\n",
        "                        \"Please insert the amount of  quarters  that would be used ?  \"))\n",
        "                    dimes = float(input(\n",
        "                        \"Please insert the amount of  dimes  that would be used ?  \"))\n",
        "                    nickles = float(input(\n",
        "                        \"Please insert the amount of  nickles  that would be used ?  \"))\n",
        "                    pennies = float(input(\n",
        "                        \"Please insert the amount of  pennies  that would be used ?  \"))\n",
        "                    paid = check_money(quarters, dimes, nickles, pennies, user_choice_price, resources)\n",
        "                    if paid:\n",
        "                        make_coffee(user_choice_ingredients, resources)\n",
        "                        user_change = check_for_change(quarters, dimes, nickles, pennies, user_choice_price)\n",
        "                        if user_change != 0:\n",
        "                            print(f\"Here is your change ${user_change}\")\n",
        "                        print(f\"Enjoy your {key}, have a nice day!\")\n",
        "\n",
        "        resources_report = input(\"Would you like a resource report? Type 'Y' for Yes or 'N' for No: \")\n",
        "        if resources_report == 'Y':\n",
        "            print(\n",
        "                f\"We have {resources['water']}ml of water, {resources['milk']}ml of milk and {resources['coffee']}g of \"\n",
        "                f\"coffee left and ${resources['money']} in the register.\")\n",
        "\n",
        "\n"
      ]
    },
    {
      "cell_type": "code",
      "source": [],
      "metadata": {
        "id": "thpPkdBRs0rp"
      },
      "execution_count": null,
      "outputs": []
    }
  ]
}