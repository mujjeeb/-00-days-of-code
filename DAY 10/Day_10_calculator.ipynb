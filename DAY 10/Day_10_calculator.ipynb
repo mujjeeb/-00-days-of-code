{
  "nbformat": 4,
  "nbformat_minor": 0,
  "metadata": {
    "colab": {
      "provenance": []
    },
    "kernelspec": {
      "name": "python3",
      "display_name": "Python 3"
    },
    "language_info": {
      "name": "python"
    }
  },
  "cells": [
    {
      "cell_type": "code",
      "execution_count": null,
      "metadata": {
        "id": "6oSJ-TshyDAD"
      },
      "outputs": [],
      "source": [
        "logo = \"\"\"\n",
        "  ___                            ___\n",
        " ||  |   ___         ___        ||  |\n",
        " || _|__/  _\\_______/  _\\_______|| _|\n",
        " ||(___(  (________(  (_________||((_)\n",
        " ||  |  \\___/       \\___/       ||  |\n",
        " ||  |         ___              ||  |\n",
        " || _|________/  _\\_____________|| _|\n",
        " ||(_________(  (_______________||((_)\n",
        " ||  |        \\___/             ||  |\n",
        " ||  |                          ||  |\n",
        " ||  |                          ||  |\n",
        " ||  |                          ||  |\n",
        "\"\"\"\n",
        "print(logo)\n",
        "def add(num1, num2):\n",
        "    return num1 + num2\n",
        "\n",
        "def multiply(num1, num2):\n",
        "    return num1 * num2\n",
        "\n",
        "def substract(num1, num2):\n",
        "    return num1 - num2\n",
        "\n",
        "def divide (num1,num2):\n",
        "    return num1/num2\n",
        "opertions = {\n",
        "    '*' : multiply,\n",
        "    '-' : substract,\n",
        "    '+' : add,\n",
        "    '/' : divide\n",
        "}\n",
        "\n",
        "\n",
        "\n",
        "keep_calculating = True\n",
        "num1 = float(input(\"Please put in the first number \"))\n",
        "while keep_calculating:\n",
        "    operator_symbol = input(\"Please specify which operation you would to do \")\n",
        "    num2 = float(input(\"Please put in the other number \"))\n",
        "    for symbol in opertions:\n",
        "        if symbol == operator_symbol:\n",
        "            operator = opertions[symbol]\n",
        "\n",
        "    answer = operator(num1, num2)\n",
        "    print(answer)\n",
        "    continuation_flag = input(\"type 'y' to continue \")\n",
        "    if continuation_flag == 'y':\n",
        "        num1 = answer\n",
        "    else:\n",
        "        keep_calculating = False"
      ]
    }
  ]
}